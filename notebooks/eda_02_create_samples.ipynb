{
 "cells": [
  {
   "cell_type": "code",
   "execution_count": 14,
   "metadata": {},
   "outputs": [],
   "source": [
    "import pandas as pd\n",
    "from dotenv import load_dotenv\n",
    "import os\n",
    "import gc\n",
    "\n",
    "load_dotenv()\n",
    "os.chdir(os.getenv(\"ROOT_DIR\"))"
   ]
  },
  {
   "cell_type": "code",
   "execution_count": 15,
   "metadata": {},
   "outputs": [],
   "source": [
    "os.makedirs(os.path.join(os.getenv(\"ROOT_DIR\"), 'data', 'processed', 'sample'), exist_ok=True)"
   ]
  },
  {
   "cell_type": "code",
   "execution_count": 16,
   "metadata": {},
   "outputs": [
    {
     "data": {
      "text/plain": [
       "2155"
      ]
     },
     "execution_count": 16,
     "metadata": {},
     "output_type": "execute_result"
    }
   ],
   "source": [
    "train_id = pd.read_csv(os.getenv(\"TRAIN_IDENTITY_PATH\"))\n",
    "train_id.sample(frac=0.2).to_csv(\n",
    "    os.path.join(os.getenv(\"ROOT_DIR\"), 'data', 'processed', 'sample', 'train_identity_sample.csv'), \n",
    "    index=False)\n",
    "del train_id\n",
    "gc.collect()"
   ]
  },
  {
   "cell_type": "code",
   "execution_count": 17,
   "metadata": {},
   "outputs": [
    {
     "data": {
      "text/plain": [
       "0"
      ]
     },
     "execution_count": 17,
     "metadata": {},
     "output_type": "execute_result"
    }
   ],
   "source": [
    "train_trans = pd.read_csv(os.getenv(\"TRAIN_TRANSACTION_PATH\"))\n",
    "train_trans.sample(frac=0.2).to_csv(\n",
    "    os.path.join(os.getenv(\"ROOT_DIR\"), 'data', 'processed', 'sample', 'train_transaction_sample.csv'), \n",
    "    index=False)\n",
    "del train_trans\n",
    "gc.collect()"
   ]
  },
  {
   "cell_type": "code",
   "execution_count": 18,
   "metadata": {},
   "outputs": [
    {
     "data": {
      "text/plain": [
       "0"
      ]
     },
     "execution_count": 18,
     "metadata": {},
     "output_type": "execute_result"
    }
   ],
   "source": [
    "test_id = pd.read_csv(os.getenv(\"TEST_IDENTITY_PATH\"))\n",
    "test_id.sample(frac=0.2).to_csv(\n",
    "    os.path.join(os.getenv(\"ROOT_DIR\"), 'data', 'processed', 'sample', 'test_identity_sample.csv'), \n",
    "    index=False)\n",
    "del test_id\n",
    "gc.collect()"
   ]
  },
  {
   "cell_type": "code",
   "execution_count": 19,
   "metadata": {},
   "outputs": [
    {
     "data": {
      "text/plain": [
       "0"
      ]
     },
     "execution_count": 19,
     "metadata": {},
     "output_type": "execute_result"
    }
   ],
   "source": [
    "test_trans = pd.read_csv(os.getenv(\"TEST_TRANSACTION_PATH\"))\n",
    "test_trans.sample(frac=0.2).to_csv(\n",
    "    os.path.join(os.getenv(\"ROOT_DIR\"), 'data', 'processed', 'sample', 'test_transaction_sample.csv'), \n",
    "    index=False)\n",
    "del test_trans\n",
    "gc.collect()"
   ]
  },
  {
   "cell_type": "code",
   "execution_count": 20,
   "metadata": {},
   "outputs": [
    {
     "data": {
      "text/plain": [
       "'/home/gonzalo/Documents/notes/f-ds-fraudDetection/data/processed/sample/test_transaction_sample.csv'"
      ]
     },
     "execution_count": 20,
     "metadata": {},
     "output_type": "execute_result"
    }
   ],
   "source": [
    "os.path.join(os.getenv(\"ROOT_DIR\"), 'data', 'processed', 'sample', 'test_transaction_sample.csv')"
   ]
  },
  {
   "cell_type": "code",
   "execution_count": null,
   "metadata": {},
   "outputs": [],
   "source": []
  }
 ],
 "metadata": {
  "kernelspec": {
   "display_name": "venv",
   "language": "python",
   "name": "python3"
  },
  "language_info": {
   "codemirror_mode": {
    "name": "ipython",
    "version": 3
   },
   "file_extension": ".py",
   "mimetype": "text/x-python",
   "name": "python",
   "nbconvert_exporter": "python",
   "pygments_lexer": "ipython3",
   "version": "3.10.12"
  }
 },
 "nbformat": 4,
 "nbformat_minor": 2
}
